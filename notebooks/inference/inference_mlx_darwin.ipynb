{
 "cells": [
  {
   "cell_type": "markdown",
   "metadata": {},
   "source": [
    "# Overview\n",
    "\n",
    "This notebook shows how to use the microsoft/phi-2 model to generate Chat/Python on MacOs devices\n"
   ]
  },
  {
   "cell_type": "code",
   "execution_count": null,
   "metadata": {},
   "outputs": [],
   "source": [
    "import os\n",
    "\n",
    "local_path = !pwd\n",
    "workspace_dir = os.path.abspath(os.path.join(local_path[0], \"..\", \"..\"))\n",
    "workspace_dir"
   ]
  },
  {
   "cell_type": "code",
   "execution_count": null,
   "metadata": {},
   "outputs": [],
   "source": [
    "model_path = os.path.join(workspace_dir, '.cache', 'models', 'microsoft', 'phi-2')\n",
    "if not os.path.exists(model_path):\n",
    "    !HF_HUB_ENABLE_HF_TRANSFER=1 huggingface-cli download microsoft/phi-2 --local-dir {model_path} --local-dir-use-symlinks False"
   ]
  },
  {
   "cell_type": "code",
   "execution_count": null,
   "metadata": {},
   "outputs": [],
   "source": [
    "%pip install mlx -q"
   ]
  },
  {
   "cell_type": "code",
   "execution_count": null,
   "metadata": {},
   "outputs": [],
   "source": [
    "import sys\n",
    "\n",
    "sys.path.append(os.path.join(workspace_dir, \"models\"))"
   ]
  },
  {
   "cell_type": "code",
   "execution_count": null,
   "metadata": {},
   "outputs": [],
   "source": [
    "from microsoft_phi2_model import load, generate_step"
   ]
  },
  {
   "cell_type": "code",
   "execution_count": null,
   "metadata": {},
   "outputs": [],
   "source": [
    "model, tokenizer = load(model_path)"
   ]
  },
  {
   "cell_type": "code",
   "execution_count": null,
   "metadata": {},
   "outputs": [],
   "source": [
    "import mlx\n",
    "import mlx.core as mx\n",
    "import time\n",
    "\n",
    "prompt = \"\"\"\\\n",
    "Suppose Alice originally had 3 apples, then Bob gave Alice 7 apples, then Alice gave Cook 5 apples, and then Tim gave Alice 3x the amount of apples Alice had. How many apples does Alice have now?\\\n",
    "Let's think step by step:\\\n",
    "\"\"\"\n",
    "\n",
    "\n",
    "def generate(prompt, temp: float = 0.1, max_tokens: int = 512, verbose=True):\n",
    "    prompt = mx.array(tokenizer.encode(prompt))\n",
    "\n",
    "    tic = time.time()\n",
    "    tokens = []\n",
    "    skip = 0\n",
    "    REPLACEMENT_CHAR = \"\\ufffd\"\n",
    "\n",
    "    for (token, prob), n in zip(generate_step(prompt, model, temp), range(max_tokens)):\n",
    "        if token == tokenizer.eos_token_id:\n",
    "            break\n",
    "        if n == 0:\n",
    "            prompt_time = time.time() - tic\n",
    "            tic = time.time()\n",
    "        tokens.append(token.item())\n",
    "\n",
    "        if verbose:\n",
    "            s = tokenizer.decode(tokens)\n",
    "            if REPLACEMENT_CHAR not in s:\n",
    "                print(s[skip:], end=\"\", flush=True)\n",
    "                skip = len(s)\n",
    "\n",
    "    tokens = tokenizer.decode(tokens).replace(REPLACEMENT_CHAR, \"\")\n",
    "\n",
    "    if verbose:\n",
    "        print(tokens[skip:], flush=True)\n",
    "        gen_time = time.time() - tic\n",
    "        print(\"=\" * 10)\n",
    "        if len(tokens) == 0:\n",
    "            raise \"No tokens generated for this prompt\"\n",
    "        prompt_tps = prompt.size / prompt_time\n",
    "        gen_tps = (len(tokens) - 1) / gen_time\n",
    "        print(f\"Prompt: {prompt_tps:.3f} tokens-per-sec\")\n",
    "        print(f\"Generation: {gen_tps:.3f} tokens-per-sec\")"
   ]
  },
  {
   "cell_type": "markdown",
   "metadata": {},
   "source": [
    "## Chat Format\n"
   ]
  },
  {
   "cell_type": "code",
   "execution_count": null,
   "metadata": {},
   "outputs": [],
   "source": [
    "prompt = \"\"\"\\\n",
    "Alice: I don't know why, I'm struggling to maintain focus while studying. Any suggestions?\n",
    "Bob: Well, have you tried creating a study schedule and sticking to it?\n",
    "Alice: Yes, I have, but it doesn't seem to help much.\n",
    "Bob:\"\"\"\n",
    "generate(\n",
    "    prompt,\n",
    ")"
   ]
  },
  {
   "cell_type": "markdown",
   "metadata": {},
   "source": [
    "## Instruct Format\n"
   ]
  },
  {
   "cell_type": "code",
   "execution_count": null,
   "metadata": {},
   "outputs": [],
   "source": [
    "generate(\n",
    "    \"\"\"\\\n",
    "Write a detailed analogy between mathematics and a lighthouse.\n",
    "Answer:\\\n",
    "\"\"\"\n",
    ")"
   ]
  },
  {
   "cell_type": "markdown",
   "metadata": {},
   "source": [
    "# Code format\n"
   ]
  },
  {
   "cell_type": "code",
   "execution_count": null,
   "metadata": {},
   "outputs": [],
   "source": [
    "generate(\n",
    "    '''\n",
    "def print_prime(n):\n",
    "   \"\"\"\n",
    "   Print all primes between 1 and n\n",
    "   \"\"\"\n",
    "'''\n",
    ")"
   ]
  },
  {
   "cell_type": "code",
   "execution_count": null,
   "metadata": {},
   "outputs": [],
   "source": []
  }
 ],
 "metadata": {
  "kernelspec": {
   "display_name": "pytorchl",
   "language": "python",
   "name": "python3"
  },
  "language_info": {
   "codemirror_mode": {
    "name": "ipython",
    "version": 3
   },
   "file_extension": ".py",
   "mimetype": "text/x-python",
   "name": "python",
   "nbconvert_exporter": "python",
   "pygments_lexer": "ipython3",
   "version": "3.1.0"
  }
 },
 "nbformat": 4,
 "nbformat_minor": 2
}
