{
 "cells": [
  {
   "cell_type": "markdown",
   "metadata": {},
   "source": [
    "# Overview\n",
    "\n",
    "How to setup mlx on macosx\n"
   ]
  },
  {
   "cell_type": "markdown",
   "metadata": {},
   "source": [
    "```bash\n",
    "conda create -n bmx python=3.11 pybind11 cmake\n",
    "\n",
    "xcode-select --install\n",
    "xcode-select --switch /Applications/Xcode.app/Contents/Developer\n",
    "\n",
    "softwareupdate --list\n",
    "\n",
    "conda install -n base conda-libmamba-solver\n",
    "conda config --set solver libmamba\n",
    "conda install pytorch::pytorch torchvision torchaudio -c pytorch\n",
    "\n",
    "pip install -e “.[dev,testing]”\n",
    "```\n"
   ]
  },
  {
   "cell_type": "markdown",
   "metadata": {},
   "source": []
  }
 ],
 "metadata": {
  "language_info": {
   "name": "python"
  }
 },
 "nbformat": 4,
 "nbformat_minor": 2
}
